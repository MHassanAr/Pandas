{
 "cells": [
  {
   "cell_type": "markdown",
   "metadata": {},
   "source": [
    "<h3>Getting Started With Pandas</h3>"
   ]
  },
  {
   "cell_type": "code",
   "execution_count": 1,
   "metadata": {},
   "outputs": [],
   "source": [
    "import pandas as pd"
   ]
  },
  {
   "cell_type": "code",
   "execution_count": 2,
   "metadata": {},
   "outputs": [
    {
     "name": "stdout",
     "output_type": "stream",
     "text": [
      "2.2.2\n"
     ]
    }
   ],
   "source": [
    "print(pd.__version__)"
   ]
  },
  {
   "cell_type": "markdown",
   "metadata": {},
   "source": [
    "<h3>Series</h3>"
   ]
  },
  {
   "cell_type": "code",
   "execution_count": 8,
   "metadata": {},
   "outputs": [
    {
     "name": "stdout",
     "output_type": "stream",
     "text": [
      "[42, 54, 12, 32, 45, 65]\n"
     ]
    }
   ],
   "source": [
    "#Creating series in pandas using list\n",
    "lst = [42, 54, 12, 32, 45, 65]\n",
    "ser = pd.Series(lst)\n",
    "print(lst)"
   ]
  },
  {
   "cell_type": "code",
   "execution_count": 4,
   "metadata": {},
   "outputs": [
    {
     "name": "stdout",
     "output_type": "stream",
     "text": [
      "<class 'pandas.core.series.Series'>\n"
     ]
    }
   ],
   "source": [
    "#Printing type of series\n",
    "print(type(ser))"
   ]
  },
  {
   "cell_type": "code",
   "execution_count": 12,
   "metadata": {},
   "outputs": [
    {
     "name": "stdout",
     "output_type": "stream",
     "text": [
      "0    42.0\n",
      "1    54.0\n",
      "2    12.0\n",
      "3    32.0\n",
      "4    45.0\n",
      "5    65.0\n",
      "dtype: float64\n"
     ]
    }
   ],
   "source": [
    "#Defining the type of list using dtype()\n",
    "ser = pd.Series(lst, dtype = \"float\") \n",
    "print(ser)"
   ]
  },
  {
   "cell_type": "code",
   "execution_count": 6,
   "metadata": {},
   "outputs": [
    {
     "name": "stdout",
     "output_type": "stream",
     "text": [
      "name          [Python, C++, Java, HTML]\n",
      "popularity                [10, 6, 8, 9]\n",
      "ranking                    [1, 3, 2, 4]\n",
      "dtype: object\n"
     ]
    }
   ],
   "source": [
    "#Creating series using ductionary\n",
    "dict1 = {\"name\":[\"Python\", \"C++\", \"Java\", \"HTML\"], \"popularity\":[10, 6, 8, 9], \"ranking\":[1, 3, 2, 4]}\n",
    "ser = pd.Series(dict1)\n",
    "print(ser)"
   ]
  },
  {
   "cell_type": "code",
   "execution_count": 7,
   "metadata": {},
   "outputs": [
    {
     "name": "stdout",
     "output_type": "stream",
     "text": [
      "1    24.0\n",
      "2    24.0\n",
      "3    24.0\n",
      "4    24.0\n",
      "5     NaN\n",
      "6     NaN\n",
      "7     NaN\n",
      "dtype: float64\n"
     ]
    }
   ],
   "source": [
    "#Creating series with a repeating value\n",
    "ser1 = pd.Series(12, index = [1,2,3,4,5,6,7])\n",
    "ser2 = pd.Series(12, index = [1,2,3,4])\n",
    "print(ser1 + ser2)"
   ]
  },
  {
   "cell_type": "markdown",
   "metadata": {},
   "source": [
    "<h3>DataFrame</h3>"
   ]
  },
  {
   "cell_type": "code",
   "execution_count": 9,
   "metadata": {},
   "outputs": [
    {
     "name": "stdout",
     "output_type": "stream",
     "text": [
      "    0\n",
      "0  42\n",
      "1  54\n",
      "2  12\n",
      "3  32\n",
      "4  45\n",
      "5  65\n"
     ]
    }
   ],
   "source": [
    "#Creating dataframe using list\n",
    "lst = [42, 54, 12, 32, 45, 65]\n",
    "dF = pd.DataFrame(lst)\n",
    "print(dF)"
   ]
  },
  {
   "cell_type": "code",
   "execution_count": 10,
   "metadata": {},
   "outputs": [
    {
     "name": "stdout",
     "output_type": "stream",
     "text": [
      "<class 'pandas.core.frame.DataFrame'>\n"
     ]
    }
   ],
   "source": [
    "#Printing type of dataframe\n",
    "print(type(dF))"
   ]
  },
  {
   "cell_type": "code",
   "execution_count": 11,
   "metadata": {},
   "outputs": [
    {
     "name": "stdout",
     "output_type": "stream",
     "text": [
      "     name  popularity  ranking\n",
      "0  Python          10        1\n",
      "1     C++           6        3\n",
      "2    Java           8        2\n",
      "3    HTML           9        4\n"
     ]
    }
   ],
   "source": [
    "#Creating dataframe using dictionary\n",
    "dict1 = {\"name\":[\"Python\", \"C++\", \"Java\", \"HTML\"], \"popularity\":[10, 6, 8, 9], \"ranking\":[1, 3, 2, 4]}\n",
    "dF = pd.DataFrame(dict1)\n",
    "print(dF)"
   ]
  },
  {
   "cell_type": "code",
   "execution_count": 13,
   "metadata": {},
   "outputs": [
    {
     "name": "stdout",
     "output_type": "stream",
     "text": [
      "     name  ranking\n",
      "0  Python        1\n",
      "1     C++        3\n",
      "2    Java        2\n",
      "3    HTML        4\n"
     ]
    }
   ],
   "source": [
    "#Accessing only specific columns\n",
    "dict1 = {\"name\":[\"Python\", \"C++\", \"Java\", \"HTML\"], \"popularity\":[10, 6, 8, 9], \"ranking\":[1, 3, 2, 4]}\n",
    "dF = pd.DataFrame(dict1, columns=[\"name\", \"ranking\"])\n",
    "print(dF)"
   ]
  },
  {
   "cell_type": "code",
   "execution_count": 14,
   "metadata": {},
   "outputs": [
    {
     "name": "stdout",
     "output_type": "stream",
     "text": [
      "Java\n"
     ]
    }
   ],
   "source": [
    "#Printing specific value using indexing\n",
    "print(dF[\"name\"][2])"
   ]
  },
  {
   "cell_type": "markdown",
   "metadata": {},
   "source": [
    "<h5>Operations on DataFrame</h5>"
   ]
  },
  {
   "cell_type": "code",
   "execution_count": 16,
   "metadata": {},
   "outputs": [
    {
     "name": "stdout",
     "output_type": "stream",
     "text": [
      "   ser1  ser2\n",
      "0     1    11\n",
      "1     2    12\n",
      "2     3    13\n",
      "3     4    14\n",
      "4     5    15\n"
     ]
    }
   ],
   "source": [
    "#Creating dataframe with multiple series\n",
    "ser = {\"ser1\":pd.Series([1,2,3,4,5]), \"ser2\":pd.Series([11,12,13,14,15])}\n",
    "dF = pd.DataFrame(ser)\n",
    "print(dF)"
   ]
  },
  {
   "cell_type": "code",
   "execution_count": 17,
   "metadata": {},
   "outputs": [
    {
     "name": "stdout",
     "output_type": "stream",
     "text": [
      "   ser1  ser2  sum\n",
      "0     1    11   12\n",
      "1     2    12   14\n",
      "2     3    13   16\n",
      "3     4    14   18\n",
      "4     5    15   20\n"
     ]
    }
   ],
   "source": [
    "#Adding new column that contains sum of the pervious 2\n",
    "dF[\"sum\"] = dF[\"ser1\"] + dF[\"ser2\"]\n",
    "print(dF)"
   ]
  },
  {
   "cell_type": "code",
   "execution_count": 19,
   "metadata": {},
   "outputs": [
    {
     "name": "stdout",
     "output_type": "stream",
     "text": [
      "   ser1  ser2  Sub\n",
      "0     6     1    5\n",
      "1     2     2    0\n",
      "2     5     3    2\n",
      "3     7     4    3\n",
      "4     8     5    3\n"
     ]
    }
   ],
   "source": [
    "#Add new column that contains subtraction of the pervious 2\n",
    "ser = {\"ser1\":pd.Series([6,2,5,7,8]), \"ser2\":pd.Series([1,2,3,4,5])}\n",
    "dF[\"Sub\"] = dF[\"ser1\"] - dF[\"ser2\"]\n",
    "print(dF)"
   ]
  },
  {
   "cell_type": "code",
   "execution_count": 23,
   "metadata": {},
   "outputs": [
    {
     "name": "stdout",
     "output_type": "stream",
     "text": [
      "   ser1  ser2  Sub  Mul\n",
      "0     6     1    5    6\n",
      "1     2     2    0    4\n",
      "2     5     3    2   15\n",
      "3     7     4    3   28\n",
      "4     8     5    3   40\n"
     ]
    }
   ],
   "source": [
    "#Add new column that contain multiplication of the pervious 2\n",
    "dF[\"Mul\"] = dF[\"ser1\"] * dF[\"ser2\"]\n",
    "print(dF)"
   ]
  },
  {
   "cell_type": "code",
   "execution_count": 24,
   "metadata": {},
   "outputs": [
    {
     "name": "stdout",
     "output_type": "stream",
     "text": [
      "   ser1  ser2  Sub  Mul    divide\n",
      "0     6     1    5    6  6.000000\n",
      "1     2     2    0    4  1.000000\n",
      "2     5     3    2   15  1.666667\n",
      "3     7     4    3   28  1.750000\n",
      "4     8     5    3   40  1.600000\n"
     ]
    }
   ],
   "source": [
    "#Add new column that contain division of the pervious 2\n",
    "dF[\"divide\"] = dF[\"ser1\"] / dF[\"ser2\"]\n",
    "print(dF)"
   ]
  },
  {
   "cell_type": "code",
   "execution_count": 25,
   "metadata": {},
   "outputs": [
    {
     "name": "stdout",
     "output_type": "stream",
     "text": [
      "   ser1  ser2  Python\n",
      "0    15     2   False\n",
      "1    53     4    True\n",
      "2    23     6   False\n",
      "3    34     9    True\n",
      "4    10    10   False\n",
      "5    80    23    True\n"
     ]
    }
   ],
   "source": [
    "#Adding new column name python which gives true when value in series 1 is greater than or equal to 34\n",
    "ser = {\"ser1\":pd.Series([15,53,23,34,10,80]), \"ser2\":pd.Series([2,4,6,9,10,23])}\n",
    "dF = pd.DataFrame(ser)\n",
    "dF[\"Python\"] = dF[\"ser1\"] >= 34\n",
    "print(dF)"
   ]
  },
  {
   "cell_type": "markdown",
   "metadata": {},
   "source": [
    "<h5>Insert and Delete Operation on DataFrame</h5>"
   ]
  },
  {
   "cell_type": "code",
   "execution_count": 26,
   "metadata": {},
   "outputs": [
    {
     "name": "stdout",
     "output_type": "stream",
     "text": [
      "   ser1  ser2\n",
      "0    15     2\n",
      "1    53     4\n",
      "2    23     6\n",
      "3    34     9\n",
      "4    10    10\n",
      "5    80    23\n"
     ]
    }
   ],
   "source": [
    "ser = {\"ser1\":pd.Series([15,53,23,34,10,80]), \"ser2\":pd.Series([2,4,6,9,10,23])}\n",
    "dF = pd.DataFrame(ser)\n",
    "print(dF)"
   ]
  },
  {
   "cell_type": "code",
   "execution_count": 32,
   "metadata": {},
   "outputs": [
    {
     "name": "stdout",
     "output_type": "stream",
     "text": [
      "   ser1  ser2  newSer  ser3\n",
      "0    15     2      21    21\n",
      "1    53     4      45    45\n",
      "2    23     6      26    26\n",
      "3    34     9      78    78\n",
      "4    10    10      42    42\n",
      "5    80    23      55    55\n"
     ]
    }
   ],
   "source": [
    "ser3 = pd.Series([21,45,26,78,42,55])\n",
    "dF.insert(2,\"newSer\", ser3)\n",
    "print(dF)"
   ]
  },
  {
   "cell_type": "code",
   "execution_count": 34,
   "metadata": {},
   "outputs": [
    {
     "name": "stdout",
     "output_type": "stream",
     "text": [
      "   ser1  ser2  newSer  ser3  ser4\n",
      "0    15     2      21    21  21.0\n",
      "1    53     4      45    45  45.0\n",
      "2    23     6      26    26  26.0\n",
      "3    34     9      78    78  78.0\n",
      "4    10    10      42    42   NaN\n",
      "5    80    23      55    55   NaN\n"
     ]
    }
   ],
   "source": [
    "dF[\"ser4\"] = dF[\"ser3\"][:4]\n",
    "print(dF)"
   ]
  },
  {
   "cell_type": "code",
   "execution_count": 35,
   "metadata": {},
   "outputs": [
    {
     "name": "stdout",
     "output_type": "stream",
     "text": [
      "   ser1  ser2  newSer  ser3\n",
      "0    15     2      21    21\n",
      "1    53     4      45    45\n",
      "2    23     6      26    26\n",
      "3    34     9      78    78\n",
      "4    10    10      42    42\n",
      "5    80    23      55    55\n"
     ]
    }
   ],
   "source": [
    "dF.pop(\"ser4\")\n",
    "print(dF)"
   ]
  },
  {
   "cell_type": "code",
   "execution_count": 36,
   "metadata": {},
   "outputs": [
    {
     "name": "stdout",
     "output_type": "stream",
     "text": [
      "   ser1  ser2  ser3\n",
      "0    15     2    21\n",
      "1    53     4    45\n",
      "2    23     6    26\n",
      "3    34     9    78\n",
      "4    10    10    42\n",
      "5    80    23    55\n"
     ]
    }
   ],
   "source": [
    "del dF[\"newSer\"]\n",
    "print(dF)"
   ]
  }
 ],
 "metadata": {
  "kernelspec": {
   "display_name": "Python 3",
   "language": "python",
   "name": "python3"
  },
  "language_info": {
   "codemirror_mode": {
    "name": "ipython",
    "version": 3
   },
   "file_extension": ".py",
   "mimetype": "text/x-python",
   "name": "python",
   "nbconvert_exporter": "python",
   "pygments_lexer": "ipython3",
   "version": "3.12.4"
  }
 },
 "nbformat": 4,
 "nbformat_minor": 2
}
